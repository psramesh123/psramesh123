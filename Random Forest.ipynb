{
 "cells": [
  {
   "cell_type": "code",
   "execution_count": 1,
   "id": "19689453",
   "metadata": {},
   "outputs": [],
   "source": [
    "import pandas as pd"
   ]
  },
  {
   "cell_type": "code",
   "execution_count": 2,
   "id": "71bf7007",
   "metadata": {},
   "outputs": [],
   "source": [
    "rf = pd.read_csv('US_Heart_Patients.csv')"
   ]
  },
  {
   "cell_type": "code",
   "execution_count": 3,
   "id": "30f5c41c",
   "metadata": {},
   "outputs": [],
   "source": [
    "rf = rf.dropna(axis=0)"
   ]
  },
  {
   "cell_type": "code",
   "execution_count": 4,
   "id": "be1f07e9",
   "metadata": {},
   "outputs": [
    {
     "data": {
      "text/html": [
       "<div>\n",
       "<style scoped>\n",
       "    .dataframe tbody tr th:only-of-type {\n",
       "        vertical-align: middle;\n",
       "    }\n",
       "\n",
       "    .dataframe tbody tr th {\n",
       "        vertical-align: top;\n",
       "    }\n",
       "\n",
       "    .dataframe thead th {\n",
       "        text-align: right;\n",
       "    }\n",
       "</style>\n",
       "<table border=\"1\" class=\"dataframe\">\n",
       "  <thead>\n",
       "    <tr style=\"text-align: right;\">\n",
       "      <th></th>\n",
       "      <th>Gender</th>\n",
       "      <th>Age</th>\n",
       "      <th>Education</th>\n",
       "      <th>CurrentSmoker</th>\n",
       "      <th>CigsPerDay</th>\n",
       "      <th>BP Meds</th>\n",
       "      <th>PrevalentStroke</th>\n",
       "      <th>PrevalentHyp</th>\n",
       "      <th>Diabetes</th>\n",
       "      <th>Tot cholesterol</th>\n",
       "      <th>Systolic BP</th>\n",
       "      <th>Diastolic BP</th>\n",
       "      <th>BMI</th>\n",
       "      <th>HeartRate</th>\n",
       "      <th>Glucose</th>\n",
       "      <th>Heart-Att</th>\n",
       "    </tr>\n",
       "  </thead>\n",
       "  <tbody>\n",
       "    <tr>\n",
       "      <th>0</th>\n",
       "      <td>Male</td>\n",
       "      <td>39.0</td>\n",
       "      <td>4.0</td>\n",
       "      <td>0.0</td>\n",
       "      <td>0.0</td>\n",
       "      <td>0.0</td>\n",
       "      <td>0.0</td>\n",
       "      <td>0.0</td>\n",
       "      <td>0.0</td>\n",
       "      <td>195.0</td>\n",
       "      <td>106.0</td>\n",
       "      <td>70.0</td>\n",
       "      <td>26.97</td>\n",
       "      <td>80.0</td>\n",
       "      <td>77.0</td>\n",
       "      <td>0</td>\n",
       "    </tr>\n",
       "    <tr>\n",
       "      <th>1</th>\n",
       "      <td>Female</td>\n",
       "      <td>46.0</td>\n",
       "      <td>2.0</td>\n",
       "      <td>0.0</td>\n",
       "      <td>0.0</td>\n",
       "      <td>0.0</td>\n",
       "      <td>0.0</td>\n",
       "      <td>0.0</td>\n",
       "      <td>0.0</td>\n",
       "      <td>250.0</td>\n",
       "      <td>121.0</td>\n",
       "      <td>81.0</td>\n",
       "      <td>28.73</td>\n",
       "      <td>95.0</td>\n",
       "      <td>76.0</td>\n",
       "      <td>0</td>\n",
       "    </tr>\n",
       "    <tr>\n",
       "      <th>2</th>\n",
       "      <td>Male</td>\n",
       "      <td>48.0</td>\n",
       "      <td>1.0</td>\n",
       "      <td>1.0</td>\n",
       "      <td>20.0</td>\n",
       "      <td>0.0</td>\n",
       "      <td>0.0</td>\n",
       "      <td>0.0</td>\n",
       "      <td>0.0</td>\n",
       "      <td>245.0</td>\n",
       "      <td>127.5</td>\n",
       "      <td>80.0</td>\n",
       "      <td>25.34</td>\n",
       "      <td>75.0</td>\n",
       "      <td>70.0</td>\n",
       "      <td>0</td>\n",
       "    </tr>\n",
       "    <tr>\n",
       "      <th>3</th>\n",
       "      <td>Female</td>\n",
       "      <td>61.0</td>\n",
       "      <td>3.0</td>\n",
       "      <td>1.0</td>\n",
       "      <td>30.0</td>\n",
       "      <td>0.0</td>\n",
       "      <td>0.0</td>\n",
       "      <td>1.0</td>\n",
       "      <td>0.0</td>\n",
       "      <td>225.0</td>\n",
       "      <td>150.0</td>\n",
       "      <td>95.0</td>\n",
       "      <td>28.58</td>\n",
       "      <td>65.0</td>\n",
       "      <td>103.0</td>\n",
       "      <td>1</td>\n",
       "    </tr>\n",
       "    <tr>\n",
       "      <th>4</th>\n",
       "      <td>Female</td>\n",
       "      <td>46.0</td>\n",
       "      <td>3.0</td>\n",
       "      <td>1.0</td>\n",
       "      <td>23.0</td>\n",
       "      <td>0.0</td>\n",
       "      <td>0.0</td>\n",
       "      <td>0.0</td>\n",
       "      <td>0.0</td>\n",
       "      <td>285.0</td>\n",
       "      <td>130.0</td>\n",
       "      <td>84.0</td>\n",
       "      <td>23.10</td>\n",
       "      <td>85.0</td>\n",
       "      <td>85.0</td>\n",
       "      <td>0</td>\n",
       "    </tr>\n",
       "  </tbody>\n",
       "</table>\n",
       "</div>"
      ],
      "text/plain": [
       "   Gender   Age  Education  CurrentSmoker  CigsPerDay  BP Meds  \\\n",
       "0    Male  39.0        4.0            0.0         0.0      0.0   \n",
       "1  Female  46.0        2.0            0.0         0.0      0.0   \n",
       "2    Male  48.0        1.0            1.0        20.0      0.0   \n",
       "3  Female  61.0        3.0            1.0        30.0      0.0   \n",
       "4  Female  46.0        3.0            1.0        23.0      0.0   \n",
       "\n",
       "   PrevalentStroke  PrevalentHyp  Diabetes  Tot cholesterol  Systolic BP  \\\n",
       "0              0.0           0.0       0.0            195.0        106.0   \n",
       "1              0.0           0.0       0.0            250.0        121.0   \n",
       "2              0.0           0.0       0.0            245.0        127.5   \n",
       "3              0.0           1.0       0.0            225.0        150.0   \n",
       "4              0.0           0.0       0.0            285.0        130.0   \n",
       "\n",
       "   Diastolic BP    BMI  HeartRate  Glucose  Heart-Att  \n",
       "0          70.0  26.97       80.0     77.0          0  \n",
       "1          81.0  28.73       95.0     76.0          0  \n",
       "2          80.0  25.34       75.0     70.0          0  \n",
       "3          95.0  28.58       65.0    103.0          1  \n",
       "4          84.0  23.10       85.0     85.0          0  "
      ]
     },
     "execution_count": 4,
     "metadata": {},
     "output_type": "execute_result"
    }
   ],
   "source": [
    "rf.head()"
   ]
  },
  {
   "cell_type": "code",
   "execution_count": 54,
   "id": "fcd91a09",
   "metadata": {},
   "outputs": [],
   "source": [
    "y = rf['Heart-Att']\n",
    "rf_features = ['Age', 'BP Meds', 'PrevalentHyp', 'Diabetes','Tot cholesterol',\n",
    "                'Systolic BP', 'Diastolic BP', 'Glucose']\n",
    "X = rf[rf_features]"
   ]
  },
  {
   "cell_type": "code",
   "execution_count": 55,
   "id": "37395079",
   "metadata": {},
   "outputs": [],
   "source": [
    "from sklearn.model_selection import train_test_split"
   ]
  },
  {
   "cell_type": "code",
   "execution_count": 56,
   "id": "56e543ee",
   "metadata": {},
   "outputs": [],
   "source": [
    "train_X, val_X, train_y, val_y = train_test_split(X, y,random_state = 0)"
   ]
  },
  {
   "cell_type": "code",
   "execution_count": 57,
   "id": "a39979e3",
   "metadata": {},
   "outputs": [],
   "source": [
    "from sklearn.ensemble import RandomForestRegressor\n",
    "from sklearn.metrics import mean_absolute_error"
   ]
  },
  {
   "cell_type": "code",
   "execution_count": 58,
   "id": "4f79a08f",
   "metadata": {},
   "outputs": [],
   "source": [
    "forest_model = RandomForestRegressor(random_state=1)"
   ]
  },
  {
   "cell_type": "code",
   "execution_count": 59,
   "id": "95e886a4",
   "metadata": {},
   "outputs": [
    {
     "data": {
      "text/plain": [
       "RandomForestRegressor(random_state=1)"
      ]
     },
     "execution_count": 59,
     "metadata": {},
     "output_type": "execute_result"
    }
   ],
   "source": [
    "forest_model.fit(train_X, train_y)"
   ]
  },
  {
   "cell_type": "code",
   "execution_count": 60,
   "id": "75d76891",
   "metadata": {},
   "outputs": [],
   "source": [
    "rf_preds = forest_model.predict(val_X)"
   ]
  },
  {
   "cell_type": "code",
   "execution_count": 61,
   "id": "77ba3cbe",
   "metadata": {},
   "outputs": [
    {
     "name": "stdout",
     "output_type": "stream",
     "text": [
      "0.24557522123893805\n"
     ]
    }
   ],
   "source": [
    "print(mean_absolute_error(val_y, rf_preds))"
   ]
  },
  {
   "cell_type": "code",
   "execution_count": 62,
   "id": "48fb8f37",
   "metadata": {},
   "outputs": [
    {
     "name": "stdout",
     "output_type": "stream",
     "text": [
      "Making predictions for first five Patients:\n",
      "    Age  BP Meds  PrevalentHyp  Diabetes  Tot cholesterol  Systolic BP  \\\n",
      "0  39.0      0.0           0.0       0.0            195.0        106.0   \n",
      "1  46.0      0.0           0.0       0.0            250.0        121.0   \n",
      "2  48.0      0.0           0.0       0.0            245.0        127.5   \n",
      "3  61.0      0.0           1.0       0.0            225.0        150.0   \n",
      "4  46.0      0.0           0.0       0.0            285.0        130.0   \n",
      "\n",
      "   Diastolic BP  Glucose  \n",
      "0          70.0     77.0  \n",
      "1          81.0     76.0  \n",
      "2          80.0     70.0  \n",
      "3          95.0    103.0  \n",
      "4          84.0     85.0  \n",
      "The predictions are\n",
      "[0.   0.03 0.14 0.76 0.01]\n"
     ]
    }
   ],
   "source": [
    "print(\"Making predictions for first five Patients:\")\n",
    "print(X.head())\n",
    "print(\"The predictions are\")\n",
    "print(forest_model.predict(X.head()))"
   ]
  },
  {
   "cell_type": "code",
   "execution_count": null,
   "id": "f3287cbc",
   "metadata": {},
   "outputs": [],
   "source": []
  }
 ],
 "metadata": {
  "kernelspec": {
   "display_name": "Python 3 (ipykernel)",
   "language": "python",
   "name": "python3"
  },
  "language_info": {
   "codemirror_mode": {
    "name": "ipython",
    "version": 3
   },
   "file_extension": ".py",
   "mimetype": "text/x-python",
   "name": "python",
   "nbconvert_exporter": "python",
   "pygments_lexer": "ipython3",
   "version": "3.9.13"
  }
 },
 "nbformat": 4,
 "nbformat_minor": 5
}
