{
 "cells": [
  {
   "cell_type": "code",
   "execution_count": 1,
   "id": "ab39b3ec",
   "metadata": {},
   "outputs": [],
   "source": [
    "import cv2\n",
    "import mediapipe as mp\n",
    "import numpy as np\n",
    "import matplotlib.pyplot as plt\n",
    "from PIL import Image"
   ]
  },
  {
   "cell_type": "code",
   "execution_count": 2,
   "id": "696d016f",
   "metadata": {},
   "outputs": [],
   "source": [
    "# This function generates a 2D monochrome gradient image that increases or decreases at equal intervals in \n",
    "# the vertical or horizontal direction\n",
    "def get_gradient_2d(start, stop, width, height, is_horizontal):\n",
    "    if is_horizontal:\n",
    "        return np.tile(np.linspace(start, stop, width), (height, 1))\n",
    "    else:\n",
    "        return np.tile(np.linspace(start, stop, height), (width, 1)).T\n",
    "    \n",
    "# This functions generates a 3D gradient image\n",
    "def get_gradient_3d(width, height, start_list, stop_list, is_horizontal_list):\n",
    "    result = np.zeros((height, width, len(start_list)), dtype=float)\n",
    "\n",
    "    for i, (start, stop, is_horizontal) in enumerate(zip(start_list, stop_list, is_horizontal_list)):\n",
    "        result[:, :, i] = get_gradient_2d(start, stop, width, height, is_horizontal)\n",
    "\n",
    "    return Image.fromarray(np.uint8(result))"
   ]
  },
  {
   "cell_type": "code",
   "execution_count": null,
   "id": "c95b91e5",
   "metadata": {},
   "outputs": [
    {
     "name": "stderr",
     "output_type": "stream",
     "text": [
      "INFO: Created TensorFlow Lite XNNPACK delegate for CPU.\n"
     ]
    }
   ],
   "source": [
    "# mediapipe libraries\n",
    "mp_drawing = mp.solutions.drawing_utils\n",
    "\n",
    "# to segment the portrait of a person, and can be used for replacing or modifying the background in an image. \n",
    "# The model outputs two categories, background at index 0 and person at index 1\n",
    "mp_selfie_segmentation = mp.solutions.selfie_segmentation\n",
    "\n",
    "\n",
    "BG_COLOR = (85,85,85) # DARK GRAY\n",
    "background_image = cv2.imread('Background_Image.jpeg')\n",
    "\n",
    "cap = cv2.VideoCapture(1) # video input\n",
    "\n",
    "with mp_selfie_segmentation.SelfieSegmentation(model_selection=0) as selfie_segmentation:\n",
    "    bg_image = None\n",
    "    while cap.isOpened():\n",
    "        success, image = cap.read()\n",
    "        if not success:\n",
    "            print(\"Warning! Empty camera frame.\")\n",
    "            continue\n",
    "        \n",
    "        # To improve performance, you can optionally mark the image as not writeable\n",
    "        image.flags.writeable = False\n",
    "        results = selfie_segmentation.process(image)\n",
    "        image.flags.writeable = True\n",
    "        \n",
    "        # pixels greater than the threshold value are given binary value 1 denoting the object and the pixel values\n",
    "        # lower are given 0 denoting the background\n",
    "        condition = np.stack((results.segmentation_mask,) * 3, axis= -1) > 0.2\n",
    "        \n",
    "        # Virtual Background\n",
    "        #bg_image = cv2.resize(background_image, (image.shape[1], image.shape[0])) \n",
    "        \n",
    "        # Background Blur\n",
    "        #bg_image = cv2.GaussianBlur(image,(55,55),0) \n",
    "        \n",
    "        # Gradient Color\n",
    "        bg_image = get_gradient_3d(1280, 720, (0, 0, 192), (255, 255, 64), (True, False, False))\n",
    "\n",
    "        # Single Color\n",
    "        if bg_image is None:\n",
    "            bg_image = np.zeros(image.shape, dtype = np.uint8)\n",
    "            bg_image[:] = BG_COLOR\n",
    "        out_image = np.where(condition, image, bg_image)\n",
    "        \n",
    "        cv2.imshow('Virtual Background Creation', out_image) \n",
    "        if cv2.waitKey(5) & 0xFF ==27:\n",
    "            break\n",
    "            \n",
    "cap.release()\n",
    "cv2.destroyAllWindows()"
   ]
  },
  {
   "cell_type": "code",
   "execution_count": null,
   "id": "1a0ce036",
   "metadata": {},
   "outputs": [],
   "source": []
  }
 ],
 "metadata": {
  "kernelspec": {
   "display_name": "Python 3 (ipykernel)",
   "language": "python",
   "name": "python3"
  },
  "language_info": {
   "codemirror_mode": {
    "name": "ipython",
    "version": 3
   },
   "file_extension": ".py",
   "mimetype": "text/x-python",
   "name": "python",
   "nbconvert_exporter": "python",
   "pygments_lexer": "ipython3",
   "version": "3.9.13"
  }
 },
 "nbformat": 4,
 "nbformat_minor": 5
}
