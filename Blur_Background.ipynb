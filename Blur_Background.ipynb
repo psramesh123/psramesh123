{
 "cells": [
  {
   "cell_type": "code",
   "execution_count": 3,
   "id": "514cb501",
   "metadata": {},
   "outputs": [],
   "source": [
    "import cv2\n",
    "import mediapipe as mp\n",
    "import numpy as np\n",
    "import matplotlib.pyplot as plt"
   ]
  },
  {
   "cell_type": "code",
   "execution_count": null,
   "id": "af321c59",
   "metadata": {},
   "outputs": [
    {
     "name": "stderr",
     "output_type": "stream",
     "text": [
      "INFO: Created TensorFlow Lite XNNPACK delegate for CPU.\n"
     ]
    }
   ],
   "source": [
    "def modifyBackground(image, background_image = 255, blur = 95, threshold = 0.3, method='changeBackground'):\n",
    "    RGB_img = cv2.cvtColor(image, cv2.COLOR_BGR2RGB)\n",
    " \n",
    "    # Initializing mediapipe segmentation class.\n",
    "    mp_selfie_segmentation = mp.solutions.selfie_segmentation\n",
    "    segment = mp_selfie_segmentation.SelfieSegmentation(model_selection=1)\n",
    "\n",
    "    # Perform the segmentation.\n",
    "    result = segment.process(RGB_img)\n",
    "    \n",
    "    # Get a binary mask having pixel value 1 for the object and 0 for the background.\n",
    "    # Pixel values greater than the threshold value will become 1 and the remainings will become 0.\n",
    "    binary_mask = result.segmentation_mask > threshold\n",
    "    \n",
    "    # Stack the same mask three times to make it a three channel image.\n",
    "    binary_mask_3 = np.dstack((binary_mask,binary_mask,binary_mask))\n",
    "        \n",
    "    if method == 'blurBackground':\n",
    "        blurred_image = cv2.GaussianBlur(image, (blur, blur), 0)\n",
    "        output_image = np.where(binary_mask_3, image, blurred_image)\n",
    "    \n",
    "    elif method == 'desatureBackground':\n",
    "        grayscale = cv2.cvtColor(src = image, code = cv2.COLOR_BGR2GRAY)\n",
    "        \n",
    "        grayscale_3 = np.dstack((grayscale,grayscale,grayscale))\n",
    "\n",
    "        output_image = np.where(binary_mask_3, image, grayscale_3)\n",
    "    \n",
    "    return output_image, (binary_mask_3 * 255).astype('uint8')\n",
    "\n",
    "cap = cv2.VideoCapture(0)\n",
    "\n",
    "# Setting Width and Height\n",
    "cap.set(3, 1280)\n",
    "cap.set(4, 720)\n",
    "\n",
    "\n",
    "while cap.isOpened():\n",
    "    ret, frame = cap.read()\n",
    "\n",
    "    if not ret:\n",
    "        continue\n",
    "\n",
    "    # Flip the frame horizontally for natural (selfie-view) visualization.\n",
    "    frame = cv2.flip(frame, 1)\n",
    "\n",
    "    output_frame,_ = modifyBackground(frame, threshold = 0.3, method='desatureBackground')\n",
    "\n",
    "    cv2.imshow('Video', output_frame)\n",
    "\n",
    "    k = cv2.waitKey(1)\n",
    "    if k == ord('q'):\n",
    "        break\n",
    "\n",
    "cap.release()\n",
    "cv2.destroyAllWindows()"
   ]
  },
  {
   "cell_type": "code",
   "execution_count": null,
   "id": "8de04862",
   "metadata": {},
   "outputs": [],
   "source": []
  }
 ],
 "metadata": {
  "kernelspec": {
   "display_name": "Python 3 (ipykernel)",
   "language": "python",
   "name": "python3"
  },
  "language_info": {
   "codemirror_mode": {
    "name": "ipython",
    "version": 3
   },
   "file_extension": ".py",
   "mimetype": "text/x-python",
   "name": "python",
   "nbconvert_exporter": "python",
   "pygments_lexer": "ipython3",
   "version": "3.9.13"
  }
 },
 "nbformat": 4,
 "nbformat_minor": 5
}
